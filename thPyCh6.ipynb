{
 "cells": [
  {
   "cell_type": "markdown",
   "metadata": {},
   "source": [
    "# Chapter 6 \"Fruitful Functions\""
   ]
  },
  {
   "cell_type": "markdown",
   "metadata": {},
   "source": [
    "## Return values\n",
    "### Calling a function generates a return value, which can be stored or used immediately.  \n",
    "By not specifying a return value, the function returns None (What is None in Python)?  \n",
    "Many functions we've used so far are \"void,\" not fruitful, i.e. they return None.  \n",
    "E.g.  "
   ]
  },
  {
   "cell_type": "code",
   "execution_count": 2,
   "metadata": {},
   "outputs": [
    {
     "data": {
      "text/plain": [
       "16"
      ]
     },
     "execution_count": 2,
     "metadata": {},
     "output_type": "execute_result"
    }
   ],
   "source": [
    "#recall how a function works\n",
    "def squarer(x): #input value is like f(x), where f=squarerer and x is the function input\n",
    "    return x**2 #this is the function which x will be plugged in\n",
    "\n",
    "squarer(4) #THIS METHOD WILL BE ABLE TO BE USED LATER ON"
   ]
  },
  {
   "cell_type": "code",
   "execution_count": 3,
   "metadata": {},
   "outputs": [
    {
     "name": "stdout",
     "output_type": "stream",
     "text": [
      "27\n"
     ]
    }
   ],
   "source": [
    "def cuber_printer(x):\n",
    "    print(x**3)\n",
    "    \n",
    "cuber_printer(3) #THIS METHOD WILL NOT BE ABLE TO BE USED LATER ON BECAUSE IT JUST PRINTS THE ANSWER, NOT JUST STORES IT"
   ]
  },
  {
   "cell_type": "code",
   "execution_count": 4,
   "metadata": {},
   "outputs": [
    {
     "name": "stdout",
     "output_type": "stream",
     "text": [
      "hello\n",
      "49\n"
     ]
    }
   ],
   "source": [
    "x = squarer(7)\n",
    "print(\"hello\")\n",
    "print(x)"
   ]
  },
  {
   "cell_type": "code",
   "execution_count": 5,
   "metadata": {},
   "outputs": [
    {
     "name": "stdout",
     "output_type": "stream",
     "text": [
      "8\n",
      "hello again\n",
      "None\n"
     ]
    }
   ],
   "source": [
    "y = cuber_printer(2)\n",
    "print('hello again')\n",
    "print(y)"
   ]
  },
  {
   "cell_type": "code",
   "execution_count": 6,
   "metadata": {},
   "outputs": [],
   "source": [
    "#...\n",
    "def square(bob, length):\n",
    "    for i in range(4):\n",
    "        bob.forward(4)\n",
    "        bob.right(90)\n",
    "#...\n",
    "#this function \"does\" something, i.e it draws a square, but it doesn't RETURN anything\n",
    "#to be used later"
   ]
  },
  {
   "cell_type": "code",
   "execution_count": 7,
   "metadata": {},
   "outputs": [
    {
     "name": "stdout",
     "output_type": "stream",
     "text": [
      "28.274333882308138\n"
     ]
    }
   ],
   "source": [
    "#let's make a \"fruitful\" function, i.e. one that returns a value.\n",
    "import math\n",
    "def area(radius):\n",
    "    a = math.pi * radius**2\n",
    "    return a    #this returns answer and also stores the value in the variable\n",
    "    #print(a) #would be a variable main error\n",
    "print(area(3))\n",
    "#area(3)"
   ]
  },
  {
   "cell_type": "code",
   "execution_count": 8,
   "metadata": {},
   "outputs": [
    {
     "name": "stdout",
     "output_type": "stream",
     "text": [
      "12.566370614359172\n",
      "28.274333882308138\n",
      "50.26548245743669\n"
     ]
    }
   ],
   "source": [
    "#this is the same as above, but more simpler and various imputs going through same function can be stored in different variables\n",
    "import math\n",
    "def area(radius):\n",
    "    return math.pi * radius**2 \n",
    "\n",
    "x=area(2)\n",
    "y=area(3)\n",
    "z=area(4) #not printing anything, but it's storing answer in variables\n",
    "\n",
    "print(x)\n",
    "print(y)\n",
    "print(z)#by doing this, we can see that the variable was stored"
   ]
  },
  {
   "cell_type": "code",
   "execution_count": 9,
   "metadata": {},
   "outputs": [
    {
     "name": "stdout",
     "output_type": "stream",
     "text": [
      "3.141592653589793\n",
      "6.283185307179586\n"
     ]
    }
   ],
   "source": [
    "my_area = area(1)\n",
    "print(my_area)\n",
    "print(2*my_area)"
   ]
  },
  {
   "cell_type": "code",
   "execution_count": 10,
   "metadata": {},
   "outputs": [
    {
     "ename": "SyntaxError",
     "evalue": "invalid syntax (2043387853.py, line 5)",
     "output_type": "error",
     "traceback": [
      "\u001b[0;36m  File \u001b[0;32m\"/var/folders/jn/3sv3k8d13q1_4rx4q55j249r0000gp/T/ipykernel_12702/2043387853.py\"\u001b[0;36m, line \u001b[0;32m5\u001b[0m\n\u001b[0;31m    return circumference = 2 * math.pi * r  #but this isn't ever calculated\u001b[0m\n\u001b[0m                         ^\u001b[0m\n\u001b[0;31mSyntaxError\u001b[0m\u001b[0;31m:\u001b[0m invalid syntax\n"
     ]
    }
   ],
   "source": [
    "# dead code - unreachable code, for example, code that happens after a return statement\n",
    "def extraneous_area(r):\n",
    "    a = math.pi * r **2\n",
    "    return a\n",
    "    return circumference = 2 * math.pi * r  #but this isn't ever calculated\n",
    "    \n"
   ]
  },
  {
   "cell_type": "code",
   "execution_count": 11,
   "metadata": {},
   "outputs": [],
   "source": [
    "#multiple returns\n",
    "#sometimes, we want different values to be returned in different situations - \n",
    "#we can write multiple return statements, but only one will be used in a given call\n",
    "\n",
    "def abs_val(x):\n",
    "    if x < 0:\n",
    "        return -x\n",
    "    else:\n",
    "        return x"
   ]
  },
  {
   "cell_type": "code",
   "execution_count": 12,
   "metadata": {},
   "outputs": [],
   "source": [
    "#you could equivalently write:\n",
    "def abs_val(x):\n",
    "    if x < 0:\n",
    "        My_answer = -x\n",
    "    else:\n",
    "        My_answer = x\n",
    "    #print(My_answer)\n",
    "    #in this case we assign the correct answer to the \"temporary variable\" answer.\n",
    "    return My_answer  #but that -slightly- less efficient to hold the \"answer\" variable\n",
    "    #but still could be useful to write it this way for clarity/debugging"
   ]
  },
  {
   "cell_type": "code",
   "execution_count": 13,
   "metadata": {},
   "outputs": [
    {
     "ename": "IndentationError",
     "evalue": "expected an indented block (2507592029.py, line 5)",
     "output_type": "error",
     "traceback": [
      "\u001b[0;36m  File \u001b[0;32m\"/var/folders/jn/3sv3k8d13q1_4rx4q55j249r0000gp/T/ipykernel_12702/2507592029.py\"\u001b[0;36m, line \u001b[0;32m5\u001b[0m\n\u001b[0;31m    if x < 0:\u001b[0m\n\u001b[0m    ^\u001b[0m\n\u001b[0;31mIndentationError\u001b[0m\u001b[0;31m:\u001b[0m expected an indented block\n"
     ]
    }
   ],
   "source": [
    "    #in fact, if we had forgotten a case, writing it this way may help us see that\n",
    "    #like this...\n",
    "    \n",
    "def abs_val_oops(x):\n",
    "    if x < 0:\n",
    "        return -x\n",
    "\n",
    "    if x > 0:\n",
    "        return x\n",
    "    #what's the oops? You cannot do a value of 0 because its not greater/lessthan OR EQUALL to.\n",
    "    \n",
    "print(abs_val_oops(0))"
   ]
  },
  {
   "cell_type": "code",
   "execution_count": 14,
   "metadata": {},
   "outputs": [
    {
     "data": {
      "text/plain": [
       "2"
      ]
     },
     "execution_count": 14,
     "metadata": {},
     "output_type": "execute_result"
    }
   ],
   "source": [
    "#Just FYI, Python has a built-in absolute value function\n",
    "abs(-2)"
   ]
  },
  {
   "cell_type": "markdown",
   "metadata": {},
   "source": [
    "## Exercise: write a function called \"compare\" that takes two values, x and y, and returns 1 if x > y, 0 if x==y, and -1 if x < y"
   ]
  },
  {
   "cell_type": "code",
   "execution_count": 15,
   "metadata": {},
   "outputs": [
    {
     "data": {
      "text/plain": [
       "-1"
      ]
     },
     "execution_count": 15,
     "metadata": {},
     "output_type": "execute_result"
    }
   ],
   "source": [
    "#write compare here\n",
    "def compare(x,y):\n",
    "    if x > y :\n",
    "        return 1\n",
    "    elif x == y:\n",
    "        return 0\n",
    "    elif x < y:\n",
    "        return -1\n",
    "    else:\n",
    "        return \"ERROR\"\n",
    "    #return something\n",
    "    \n",
    "compare(1,2)"
   ]
  },
  {
   "cell_type": "code",
   "execution_count": 16,
   "metadata": {},
   "outputs": [
    {
     "name": "stdout",
     "output_type": "stream",
     "text": [
      "7\n",
      "0\n",
      "4\n"
     ]
    }
   ],
   "source": [
    "#what about \n",
    "#if x>y return sum of x and y\n",
    "#if x==y return difference of x and y\n",
    "#if y>x return the larger of x and y\n",
    "def compare2(x,y):\n",
    "    if x > y :\n",
    "        return x+y\n",
    "    elif x==y :\n",
    "        return abs(x-y) \n",
    "#absolute value because its the difference between numbers going both ways so 3 to 5 or vice versa would both be 2\n",
    "    elif x < y :\n",
    "        return y\n",
    "    \n",
    "print(compare2(4,3))\n",
    "print(compare2(3,3))\n",
    "print(compare2(3,4))"
   ]
  },
  {
   "cell_type": "markdown",
   "metadata": {},
   "source": [
    "## Incremental Development.  \n",
    "As you write larger functions, you might find yourself spending more time debugging.  \n",
    "To deal with increasingly complex programs, you might want to try a process called incremental development. The goal of incremental development is to avoid long debugging sessions by adding and testing only a small amount of code at a time.  \n",
    "As an example, suppose you want to find the distance between two points, given by the coordinates (x1, y1) and (x2, y2). By the Pythagorean theorem, the distance is:\n",
    "\n",
    "distance = \t√((x2 − x1)^2 + (y2 − y1)^2)\n",
    "The first step is to consider what a distance function should look like in Python. In other words, what are the inputs (parameters) and what is the output (return value)?\n",
    "In this case, the inputs are two points, which you can represent using four numbers. The return value is the distance represented by a floating-point value.\n",
    "\n",
    "Immediately you can write an outline of the function:\n",
    "\n",
    "def distance(x1, y1, x2, y2):  \n",
    "    return 0.0  \n",
    "    \n",
    "Obviously, this version doesn’t compute distances; it always returns zero. But it is syntactically correct, and it runs, which means that you can test it before you make it more complicated.\n",
    "To test the new function, call it with sample arguments:\n",
    "\n",
    "-distance(1, 2, 4, 6)  \n",
    "-0.0  \n",
    "I chose these values so that the horizontal distance is 3 and the vertical distance is 4; that way, the result is 5, the hypotenuse of a 3-4-5 triangle. When testing a function, it is useful to know the right answer.\n",
    "At this point we have confirmed that the function is syntactically correct, and we can start adding code to the body. A reasonable next step is to find the differences x2 − x1 and y2 − y1. The next version stores those values in temporary variables and prints them.\n"
   ]
  },
  {
   "cell_type": "code",
   "execution_count": 17,
   "metadata": {},
   "outputs": [
    {
     "name": "stdout",
     "output_type": "stream",
     "text": [
      "dx is 3\n",
      "dy is 4\n"
     ]
    },
    {
     "data": {
      "text/plain": [
       "0.0"
      ]
     },
     "execution_count": 17,
     "metadata": {},
     "output_type": "execute_result"
    }
   ],
   "source": [
    "def distance(x1, y1, x2, y2):  \n",
    "    dx = x2 - x1  #change in x\n",
    "    dy = y2 - y1  #change in y DERIVATIVES!!!!\n",
    "    print('dx is', dx)  \n",
    "    print('dy is', dy)  \n",
    "    return 0.0 \n",
    "\n",
    "distance(1, 2, 4, 6)"
   ]
  },
  {
   "cell_type": "markdown",
   "metadata": {},
   "source": [
    "If the function is working, it should display dx is 3 and dy is 4. If so, we know that the function is getting the right arguments and performing the first computation correctly. If not, there are only a few lines to check.  \n",
    "Next we compute the sum of squares of dx and dy:"
   ]
  },
  {
   "cell_type": "code",
   "execution_count": 18,
   "metadata": {},
   "outputs": [
    {
     "name": "stdout",
     "output_type": "stream",
     "text": [
      "dsquared is:  25\n"
     ]
    },
    {
     "data": {
      "text/plain": [
       "0.0"
      ]
     },
     "execution_count": 18,
     "metadata": {},
     "output_type": "execute_result"
    }
   ],
   "source": [
    "def distance(x1, y1, x2, y2):  \n",
    "    dx = x2 - x1  \n",
    "    dy = y2 - y1  \n",
    "    dsquared = dx**2 + dy**2  #equation for distance (square root of (x2-x1 squared plus y2-y1 squared))\n",
    "    print('dsquared is: ', dsquared)\n",
    "    return 0.0\n",
    "distance(1, 2, 4, 6)"
   ]
  },
  {
   "cell_type": "code",
   "execution_count": 19,
   "metadata": {},
   "outputs": [
    {
     "data": {
      "text/plain": [
       "5.0"
      ]
     },
     "execution_count": 19,
     "metadata": {},
     "output_type": "execute_result"
    }
   ],
   "source": [
    "#Again, you would run the program at this stage and check the output (which should be 25). Finally, you can use math.sqrt to compute and return the result:\n",
    "def distance(x1, y1, x2, y2):\n",
    "    dx = x2 - x1\n",
    "    dy = y2 - y1\n",
    "    dsquared = dx**2 + dy**2  \n",
    "    result = math.sqrt(dsquared)\n",
    "    #distanceresult = dsquared ** (1/2)\n",
    "    #print(result)\n",
    "    return result  \n",
    "distance(1, 2, 4, 6)"
   ]
  },
  {
   "cell_type": "markdown",
   "metadata": {},
   "source": [
    "If that works correctly, you are done. Otherwise, you might want to print the value of result before the return statement.  \n",
    "The final version of the function doesn’t display anything when it runs; it only returns a value. The print statements we wrote are useful for debugging, but once you get the function working, you should remove them. Code like that is called scaffolding because it is helpful for building the program but is not part of the final product.  \n",
    "\n",
    "When you start out, you should add only a line or two of code at a time. As you gain more experience, you might find yourself writing and debugging bigger chunks. Either way, incremental development can save you a lot of debugging time.  \n",
    "  \n",
    "The key aspects of the process are:  \n",
    "  \n",
    "1) Start with a working program and make small incremental changes. At any point, if there is an error, you should have a good idea where it is.   \n",
    "2) Use variables to hold intermediate values so you can display and check them.  \n",
    "3) Once the program is working, you might want to remove some of the scaffolding or consolidate multiple statements into compound expressions, but only if it does not make the program difficult to read.  \n",
    "As an exercise, use incremental development to write a function called hypotenuse that returns the length of the hypotenuse of a right triangle given the lengths of the other two legs as arguments. Record each stage of the development process as you go.\n",
    "\n",
    "\n",
    "\n",
    "\n"
   ]
  },
  {
   "cell_type": "code",
   "execution_count": 20,
   "metadata": {},
   "outputs": [
    {
     "data": {
      "text/plain": [
       "10.0"
      ]
     },
     "execution_count": 20,
     "metadata": {},
     "output_type": "execute_result"
    }
   ],
   "source": [
    "def hypotenuse(length1, length2):\n",
    "    h_squared = length1**2 + length2**2\n",
    "    #print(h_squared)\n",
    "    #return 0\n",
    "    return math.sqrt(h_squared)\n",
    "\n",
    "    #you might even condense it all down to one line:\n",
    "    #return math.sqrt(length1**2 + length2**2)\n",
    "\n",
    "hypotenuse(6,8)"
   ]
  },
  {
   "cell_type": "code",
   "execution_count": 21,
   "metadata": {},
   "outputs": [
    {
     "data": {
      "text/plain": [
       "78.53981633974483"
      ]
     },
     "execution_count": 21,
     "metadata": {},
     "output_type": "execute_result"
    }
   ],
   "source": [
    "# Composition - we can call one function inside another.  E.g.,\n",
    "def circle_area(xc, yc, xp, yp): #c for center, p for perimeter\n",
    "    radius = distance(xc, yc, xp, yp) #calling a previously defined function inside the new one\n",
    "    result = area(radius) #calling a different previously defined function\n",
    "    return result\n",
    "\n",
    "circle_area(0,0,3,4)\n",
    "#circle_area(0,0,3,4)/math.pi #uncomment this to see that it gives the proper radius"
   ]
  },
  {
   "cell_type": "markdown",
   "metadata": {},
   "source": [
    "## Boolean Functions  \n",
    "One useful technique is to define functions that return True or False that can help quickly classify a property.    \n",
    "It is common to give boolean functions names that sound like yes/no questions; is_divisible returns either True or False to indicate whether x is divisible by y.\n"
   ]
  },
  {
   "cell_type": "code",
   "execution_count": 22,
   "metadata": {},
   "outputs": [],
   "source": [
    "def is_divisible(x, y):\n",
    "    if x % y == 0:\n",
    "        return True\n",
    "    else:\n",
    "        return False"
   ]
  },
  {
   "cell_type": "code",
   "execution_count": 23,
   "metadata": {},
   "outputs": [
    {
     "name": "stdout",
     "output_type": "stream",
     "text": [
      "True\n"
     ]
    }
   ],
   "source": [
    "print(is_divisible(9,3))"
   ]
  },
  {
   "cell_type": "code",
   "execution_count": 24,
   "metadata": {},
   "outputs": [
    {
     "data": {
      "text/plain": [
       "'77.0%'"
      ]
     },
     "execution_count": 24,
     "metadata": {},
     "output_type": "execute_result"
    }
   ],
   "source": [
    "# how do we handle percentages in python?\n",
    "def to_percent(x):\n",
    "    return str(x*100)+\"%\"\n",
    "to_percent(.77)"
   ]
  },
  {
   "cell_type": "code",
   "execution_count": 25,
   "metadata": {},
   "outputs": [
    {
     "data": {
      "text/plain": [
       "'100%'"
      ]
     },
     "execution_count": 25,
     "metadata": {},
     "output_type": "execute_result"
    }
   ],
   "source": [
    "\"100%\""
   ]
  },
  {
   "cell_type": "markdown",
   "metadata": {},
   "source": [
    "## It may be surprising, but what we have learned so far is enough to define a \"Complete\" programming language.  \n",
    "Proving that claim is a nontrivial exercise first accomplished by Alan Turing, one of the first computer scientists (some would argue that he was a mathematician, but a lot of early computer scientists started as mathematicians). It would be reasonable to call him both.  \n",
    "Accordingly, it is known as the Turing Thesis. "
   ]
  },
  {
   "cell_type": "code",
   "execution_count": 26,
   "metadata": {},
   "outputs": [
    {
     "data": {
      "text/html": [
       "<img src=\"https://upload.wikimedia.org/wikipedia/commons/a/a1/Alan_Turing_Aged_16.jpg\"/>"
      ],
      "text/plain": [
       "<IPython.core.display.Image object>"
      ]
     },
     "execution_count": 26,
     "metadata": {},
     "output_type": "execute_result"
    }
   ],
   "source": [
    "from IPython.display import Image\n",
    "from IPython.core.display import HTML \n",
    "Image(url= \"https://upload.wikimedia.org/wikipedia/commons/a/a1/Alan_Turing_Aged_16.jpg\")\n",
    "\n",
    "# Alan Turing: "
   ]
  },
  {
   "cell_type": "markdown",
   "metadata": {},
   "source": [
    "##  Leap of faith\n",
    "\n",
    "Following the flow of execution is one way to read programs, but it can quickly become overwhelming. An alternative is what Downey calls the “leap of faith”. When you come to a function call, instead of following the flow of execution, you assume that the function works correctly and returns the right result.\n",
    "\n",
    "In fact, you are already practicing this leap of faith when you use built-in functions. When you call math.cos or math.exp, you don’t examine the bodies of those functions. You just assume that they work because the people who wrote the built-in functions were good programmers.\n",
    "\n",
    "The same is true when you call one of your own functions. For example, in Section 6.4, we wrote a function called is_divisible that determines whether one number is divisible by another. Once we have convinced ourselves that this function is correct—by examining the code and testing—we can use the function without looking at the body again."
   ]
  },
  {
   "cell_type": "markdown",
   "metadata": {},
   "source": [
    "##  Checking types  \n",
    "\n",
    "Let's revisit factorial.  \n",
    "What happens if we call factorial and give it 1.5 as an argument?  \n",
    "\n",
    " factorial(1.5)  \n",
    " RuntimeError: Maximum recursion depth exceeded  \n",
    "It looks like an infinite recursion. How can that be? The function has a base case—when n == 0. But if n is not an integer, we can miss the base case and recurse forever.\n",
    "In the first recursive call, the value of n is 0.5. In the next, it is -0.5. From there, it gets smaller (more negative), but it will never be 0.  \n",
    "  \n",
    "We have two choices. We can try to generalize the factorial function to work with floating-point numbers, or we can make factorial check the type of its argument. The first option is called the gamma function and it’s a little beyond the scope of this book. So we’ll go for the second.  \n",
    "\n",
    "We can use the built-in function isinstance to verify the type of the argument. While we’re at it, we can also make sure the argument is positive:  "
   ]
  },
  {
   "cell_type": "code",
   "execution_count": 27,
   "metadata": {},
   "outputs": [
    {
     "ename": "NameError",
     "evalue": "name 'factorial' is not defined",
     "output_type": "error",
     "traceback": [
      "\u001b[0;31m---------------------------------------------------------------------------\u001b[0m",
      "\u001b[0;31mNameError\u001b[0m                                 Traceback (most recent call last)",
      "\u001b[0;32m/var/folders/jn/3sv3k8d13q1_4rx4q55j249r0000gp/T/ipykernel_12702/1821842155.py\u001b[0m in \u001b[0;36m<module>\u001b[0;34m\u001b[0m\n\u001b[0;32m----> 1\u001b[0;31m \u001b[0mfactorial\u001b[0m\u001b[0;34m(\u001b[0m\u001b[0;36m1.5\u001b[0m\u001b[0;34m)\u001b[0m \u001b[0;31m# = 1.5 * factorial(0.5)\u001b[0m\u001b[0;34m\u001b[0m\u001b[0;34m\u001b[0m\u001b[0m\n\u001b[0m\u001b[1;32m      2\u001b[0m   \u001b[0;31m# = 1.5 * .5 * factorial(-.5)\u001b[0m\u001b[0;34m\u001b[0m\u001b[0;34m\u001b[0m\u001b[0m\n\u001b[1;32m      3\u001b[0m     \u001b[0;31m# = 1.5 * .5 * -.5 * factorial(-1.5)\u001b[0m\u001b[0;34m\u001b[0m\u001b[0;34m\u001b[0m\u001b[0m\n",
      "\u001b[0;31mNameError\u001b[0m: name 'factorial' is not defined"
     ]
    }
   ],
   "source": [
    "factorial(1.5) # = 1.5 * factorial(0.5)\n",
    "  # = 1.5 * .5 * factorial(-.5)\n",
    "    # = 1.5 * .5 * -.5 * factorial(-1.5)"
   ]
  },
  {
   "cell_type": "code",
   "execution_count": 28,
   "metadata": {},
   "outputs": [],
   "source": [
    "def factorial(n):\n",
    "    if not isinstance(n, int): #isinstance to chech datatype of some variable, in this checking for interger\n",
    "        print('Factorial is only defined for integers.')\n",
    "        return None\n",
    "    elif n < 0:\n",
    "        print('Factorial is not defined for negative integers.')\n",
    "        return None #none is saying to move on to the next test\n",
    "    elif n == 0:\n",
    "        return 1\n",
    "    else:\n",
    "        return n * factorial(n-1)"
   ]
  },
  {
   "cell_type": "code",
   "execution_count": 29,
   "metadata": {},
   "outputs": [
    {
     "name": "stdout",
     "output_type": "stream",
     "text": [
      "Factorial is only defined for integers.\n"
     ]
    }
   ],
   "source": [
    "factorial(1.5)"
   ]
  },
  {
   "cell_type": "code",
   "execution_count": 30,
   "metadata": {},
   "outputs": [
    {
     "name": "stdout",
     "output_type": "stream",
     "text": [
      "9 90\n",
      "8100\n"
     ]
    }
   ],
   "source": [
    "#Exercise 1   \n",
    "#Draw a stack diagram for the following program. What does the program print?\n",
    "#(You don't need to turn in your stack diagram)\n",
    "def b(z):\n",
    "    prod = a(z, z)\n",
    "    print(z, prod)\n",
    "    return prod\n",
    "\n",
    "def a(x, y):\n",
    "    x = x + 1\n",
    "    return x * y\n",
    "\n",
    "def c(x, y, z):\n",
    "    total = x + y + z\n",
    "    square = b(total)**2\n",
    "    return square\n",
    "\n",
    "x = 1\n",
    "y = x + 1\n",
    "print(c(x, y+3, x+y)) #print(c(1, 5, 3)) X=1 y=2 see line 10\n",
    "#For C, total is 1+5+3=9, so now goes to new section of b\n",
    "#so b(9) is square, which now goes to new section\n",
    "#prod a(9,9) so x=9+1=10 and returns 10*9 = 90\n",
    "#And now, returns total of 90 squared, which equals 8100\n",
    "#and not it gets handed out to the print function, and it prints out 8100"
   ]
  },
  {
   "cell_type": "markdown",
   "metadata": {},
   "source": [
    "Exercise 2    \n",
    "The Ackermann function, A(m, n), is defined:\n",
    "A(m, n) = \t\n",
    "⎧   n+1\tif  m = 0   \n",
    "⎪  \n",
    "⎨   A(m−1, 1)\tif  m > 0  and  n = 0  \n",
    "⎪  \n",
    "⎩   A(m−1, A(m, n−1))\tif  m > 0  and  n > 0.\t\n",
    "  \n",
    "              \n",
    "\n",
    "See http://en.wikipedia.org/wiki/Ackermann_function. Write a function named ack that evaluates the Ackermann function. Use your function to evaluate ack(3, 4), which should be 125. What happens for larger values of m and n? Solution: http://thinkpython2.com/code/ackermann.py."
   ]
  },
  {
   "cell_type": "code",
   "execution_count": 31,
   "metadata": {},
   "outputs": [
    {
     "data": {
      "text/plain": [
       "125"
      ]
     },
     "execution_count": 31,
     "metadata": {},
     "output_type": "execute_result"
    }
   ],
   "source": [
    "def ack(m, n):\n",
    "    if not isinstance(n, int): #first verifies that it's an interger, like a checkpoint\n",
    "        print(\"ackerman funtion is only defined for intergers\")\n",
    "        return None\n",
    "    if m == 0: #now this is where the actual function\n",
    "        return n+1\n",
    "    elif m>0 and n==0:\n",
    "        return ack(m-1, 1)\n",
    "    elif m>0 and n>0:\n",
    "        return ack(m-1, ack(m, n-1)) #function also inside of itself\n",
    "    else:\n",
    "        print(\"ackermann function not defined on negative numbers\")\n",
    "        return None\n",
    "    \n",
    "ack(3, 4)"
   ]
  },
  {
   "cell_type": "markdown",
   "metadata": {},
   "source": [
    "Exercise 3    \n",
    "A palindrome is a word that is spelled the same backward and forward, like “noon” and “redivider”. Recursively, a word is a palindrome if the first and last letters are the same and the middle is a palindrome.  \n",
    "The following are functions that take a string argument and return the first, last, and middle letters:  "
   ]
  },
  {
   "cell_type": "code",
   "execution_count": 32,
   "metadata": {},
   "outputs": [
    {
     "name": "stdout",
     "output_type": "stream",
     "text": [
      "apple\n",
      "a\n",
      "e\n",
      "ppl\n"
     ]
    }
   ],
   "source": [
    "def first(word):\n",
    "    return word[0]\n",
    "\n",
    "def last(word):\n",
    "    return word[-1]\n",
    "\n",
    "def middle(word):\n",
    "    return word[1:-1]\n",
    "\n",
    "s = \"apple\" #to save some time\n",
    "print(s)\n",
    "print(first(s))\n",
    "print(last(s))\n",
    "print(middle(s))"
   ]
  },
  {
   "cell_type": "code",
   "execution_count": 36,
   "metadata": {},
   "outputs": [
    {
     "name": "stdout",
     "output_type": "stream",
     "text": [
      "True\n",
      "False\n",
      "True\n"
     ]
    }
   ],
   "source": [
    "def palindrome(word):\n",
    "    if len(word) == 0 or len(word) == 1:\n",
    "        return True\n",
    "    elif first(word) == last(word) and palindrome(middle(word))>0:\n",
    "        return True\n",
    "    else:\n",
    "        return False\n",
    "    \n",
    "print(palindrome('otto'))\n",
    "print(palindrome('hello'))\n",
    "print(palindrome('tot'))"
   ]
  },
  {
   "cell_type": "code",
   "execution_count": 40,
   "metadata": {},
   "outputs": [
    {
     "data": {
      "text/plain": [
       "True"
      ]
     },
     "execution_count": 40,
     "metadata": {},
     "output_type": "execute_result"
    }
   ],
   "source": [
    "s = 'lasagna'\n",
    "s[::-1] #why does this reverse the order of the words? This is saying start at the end and count backwards\n",
    "def is_pal2(word):\n",
    "    return word==word[::-1]\n",
    "    \n",
    "is_pal2('otto')"
   ]
  },
  {
   "cell_type": "code",
   "execution_count": 41,
   "metadata": {},
   "outputs": [
    {
     "data": {
      "text/plain": [
       "' saln ti'"
      ]
     },
     "execution_count": 41,
     "metadata": {},
     "output_type": "execute_result"
    }
   ],
   "source": [
    "s = 'this is a long string with a few words in it'\n",
    "s[4:20:2] #slicing the phrase, starting at 0, counts to four, and then selects every 2 letters, stops at letter 20"
   ]
  },
  {
   "cell_type": "code",
   "execution_count": 42,
   "metadata": {},
   "outputs": [
    {
     "data": {
      "text/plain": [
       "'hstigslentn'"
      ]
     },
     "execution_count": 42,
     "metadata": {},
     "output_type": "execute_result"
    }
   ],
   "source": [
    "s = \"ThIsStRiNgIsAlTeRnAtInG\"\n",
    "s[1::2]"
   ]
  },
  {
   "cell_type": "markdown",
   "metadata": {},
   "source": [
    "We’ll see how they work in Chapter 8.  \n",
    "Type these functions into a file named palindrome.py and test them out. What happens if you call middle with a string with two letters? One letter? What about the empty string, which is written '' and contains no letters?  \n",
    "Write a function called is_palindrome that takes a string argument and returns True if it is a palindrome and False otherwise. Remember that you can use the built-in function len to check the length of a string.  "
   ]
  },
  {
   "cell_type": "code",
   "execution_count": null,
   "metadata": {},
   "outputs": [],
   "source": []
  }
 ],
 "metadata": {
  "kernelspec": {
   "display_name": "Python 3 (ipykernel)",
   "language": "python",
   "name": "python3"
  },
  "language_info": {
   "codemirror_mode": {
    "name": "ipython",
    "version": 3
   },
   "file_extension": ".py",
   "mimetype": "text/x-python",
   "name": "python",
   "nbconvert_exporter": "python",
   "pygments_lexer": "ipython3",
   "version": "3.9.7"
  }
 },
 "nbformat": 4,
 "nbformat_minor": 4
}
